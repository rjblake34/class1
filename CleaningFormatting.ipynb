{
 "cells": [
  {
   "cell_type": "markdown",
   "metadata": {},
   "source": [
    "<center><img src=\"http://i.imgur.com/sSaOozN.png\" width=\"500\"></center>"
   ]
  },
  {
   "cell_type": "markdown",
   "metadata": {},
   "source": [
    "## Course: Computational Thinking for Governance Analytics\n",
    "\n",
    "### Prof. José Manuel Magallanes, PhD \n",
    "* Visiting Professor of Computational Policy at Evans School of Public Policy and Governance, and eScience Institute Senior Data Science Fellow, University of Washington.\n",
    "* Professor of Government and Political Methodology, Pontificia Universidad Católica del Perú. \n",
    "\n",
    "_____\n",
    "\n",
    "# Session 2:  Data Cleaning and Formatting in Python\n",
    "<a id='beginning'></a>"
   ]
  },
  {
   "cell_type": "markdown",
   "metadata": {},
   "source": [
    "Having collected the data does not always allow you to produce some analytics right away. There is often a lot of pre processing to be done, especially if the data comes from scrapping. \n",
    "\n",
    "This session is about:\n",
    "\n",
    "* Cleaning: making sure each cell has a value that could be used in your coming procedures. The _impurities_ do not allow formatting the data correctly, such as the presence of commas instead of points and viceversa, blanks/spaces, unneeded symbols (dollar, euro symbols), non-standard symbols to represent missing values, and so on.\n",
    "\n",
    "* Fomatting: making sure that the clean values are in the right data type. if you are going to do text analysis, you may need to get rid of repetitive words, normalize them into lower case, and turn them back to their root or stem. For statistical work, you need to differentiate among nominal, ordinal, numerical and strings.\n",
    "\n",
    "Let me use the next table with information on **Democracy and its components** by country. Take a look:"
   ]
  },
  {
   "cell_type": "code",
   "execution_count": 1,
   "metadata": {},
   "outputs": [
    {
     "data": {
      "text/html": [
       "\n",
       "        <iframe\n",
       "            width=\"900\"\n",
       "            height=\"500\"\n",
       "            src=\"https://en.wikipedia.org/wiki/Democracy_Index#Components\"\n",
       "            frameborder=\"0\"\n",
       "            allowfullscreen\n",
       "            \n",
       "        ></iframe>\n",
       "        "
      ],
      "text/plain": [
       "<IPython.lib.display.IFrame at 0x7f9fd1e59790>"
      ]
     },
     "execution_count": 1,
     "metadata": {},
     "output_type": "execute_result"
    }
   ],
   "source": [
    "from IPython.display import IFrame  \n",
    "wikiLink=\"https://en.wikipedia.org/wiki/Democracy_Index#Components\" \n",
    "IFrame(wikiLink, width=900, height=500)"
   ]
  },
  {
   "cell_type": "markdown",
   "metadata": {},
   "source": [
    "You should always see the table to start guessing what should be source of problems; and, of course, have a general understanding what the data is about. In this case you can see:\n",
    "\n",
    "1. An _score_ of democracy is offered for the participant countries.\n",
    "2. Four _levels_ of democracy are offered for the participant countries.\n",
    "3. The _score_ of democracy is computed from other variables"
   ]
  },
  {
   "cell_type": "markdown",
   "metadata": {},
   "source": [
    "Let's use pandas to get that table as a data frame (**DF**):"
   ]
  },
  {
   "cell_type": "code",
   "execution_count": 2,
   "metadata": {},
   "outputs": [],
   "source": [
    "import pandas as pd\n",
    "\n",
    "wikiTables=pd.read_html(wikiLink, # link\n",
    "                        header=0, # where is the header?\n",
    "                        flavor='bs4', # helper to translate html\n",
    "                        attrs={'class': 'wikitable sortable'}) # attributes to identify element(s)"
   ]
  },
  {
   "cell_type": "markdown",
   "metadata": {},
   "source": [
    "Remember the object **wikiTables** is a list. I know before hand that our DF is the third one:"
   ]
  },
  {
   "cell_type": "code",
   "execution_count": 3,
   "metadata": {},
   "outputs": [
    {
     "data": {
      "text/html": [
       "<div>\n",
       "<style scoped>\n",
       "    .dataframe tbody tr th:only-of-type {\n",
       "        vertical-align: middle;\n",
       "    }\n",
       "\n",
       "    .dataframe tbody tr th {\n",
       "        vertical-align: top;\n",
       "    }\n",
       "\n",
       "    .dataframe thead th {\n",
       "        text-align: right;\n",
       "    }\n",
       "</style>\n",
       "<table border=\"1\" class=\"dataframe\">\n",
       "  <thead>\n",
       "    <tr style=\"text-align: right;\">\n",
       "      <th></th>\n",
       "      <th>Rank</th>\n",
       "      <th>.mw-parser-output .tooltip-dotted{border-bottom:1px dotted;cursor:help}Δ Rank</th>\n",
       "      <th>Country</th>\n",
       "      <th>Regime type</th>\n",
       "      <th>Overall score</th>\n",
       "      <th>Δ Score</th>\n",
       "      <th>Elec­toral pro­cess and plura­lism</th>\n",
       "      <th>Func­tioning of govern­ment</th>\n",
       "      <th>Poli­tical partici­pation</th>\n",
       "      <th>Poli­tical cul­ture</th>\n",
       "      <th>Civil liber­ties</th>\n",
       "    </tr>\n",
       "  </thead>\n",
       "  <tbody>\n",
       "    <tr>\n",
       "      <th>0</th>\n",
       "      <td>Full democracies</td>\n",
       "      <td>Full democracies</td>\n",
       "      <td>Full democracies</td>\n",
       "      <td>Full democracies</td>\n",
       "      <td>Full democracies</td>\n",
       "      <td>Full democracies</td>\n",
       "      <td>Full democracies</td>\n",
       "      <td>Full democracies</td>\n",
       "      <td>Full democracies</td>\n",
       "      <td>Full democracies</td>\n",
       "      <td>Full democracies</td>\n",
       "    </tr>\n",
       "    <tr>\n",
       "      <th>1</th>\n",
       "      <td>1</td>\n",
       "      <td>NaN</td>\n",
       "      <td>Norway</td>\n",
       "      <td>Full democracy</td>\n",
       "      <td>9.75</td>\n",
       "      <td>0.06</td>\n",
       "      <td>10.00</td>\n",
       "      <td>9.64</td>\n",
       "      <td>10.00</td>\n",
       "      <td>10.00</td>\n",
       "      <td>9.12</td>\n",
       "    </tr>\n",
       "    <tr>\n",
       "      <th>2</th>\n",
       "      <td>2</td>\n",
       "      <td>2</td>\n",
       "      <td>New Zealand</td>\n",
       "      <td>Full democracy</td>\n",
       "      <td>9.37</td>\n",
       "      <td>0.12</td>\n",
       "      <td>10.00</td>\n",
       "      <td>8.93</td>\n",
       "      <td>9.44</td>\n",
       "      <td>8.75</td>\n",
       "      <td>9.71</td>\n",
       "    </tr>\n",
       "    <tr>\n",
       "      <th>3</th>\n",
       "      <td>3</td>\n",
       "      <td>3</td>\n",
       "      <td>Finland</td>\n",
       "      <td>Full democracy</td>\n",
       "      <td>9.27</td>\n",
       "      <td>0.07</td>\n",
       "      <td>10.00</td>\n",
       "      <td>9.29</td>\n",
       "      <td>8.89</td>\n",
       "      <td>8.75</td>\n",
       "      <td>9.41</td>\n",
       "    </tr>\n",
       "    <tr>\n",
       "      <th>4</th>\n",
       "      <td>4</td>\n",
       "      <td>1</td>\n",
       "      <td>Sweden</td>\n",
       "      <td>Full democracy</td>\n",
       "      <td>9.26</td>\n",
       "      <td>NaN</td>\n",
       "      <td>9.58</td>\n",
       "      <td>9.29</td>\n",
       "      <td>8.33</td>\n",
       "      <td>10.00</td>\n",
       "      <td>9.12</td>\n",
       "    </tr>\n",
       "    <tr>\n",
       "      <th>...</th>\n",
       "      <td>...</td>\n",
       "      <td>...</td>\n",
       "      <td>...</td>\n",
       "      <td>...</td>\n",
       "      <td>...</td>\n",
       "      <td>...</td>\n",
       "      <td>...</td>\n",
       "      <td>...</td>\n",
       "      <td>...</td>\n",
       "      <td>...</td>\n",
       "      <td>...</td>\n",
       "    </tr>\n",
       "    <tr>\n",
       "      <th>166</th>\n",
       "      <td>162</td>\n",
       "      <td>2</td>\n",
       "      <td>Central African Republic</td>\n",
       "      <td>Authoritarian</td>\n",
       "      <td>1.43</td>\n",
       "      <td>0.11</td>\n",
       "      <td>1.25</td>\n",
       "      <td>0.00</td>\n",
       "      <td>1.67</td>\n",
       "      <td>1.88</td>\n",
       "      <td>2.35</td>\n",
       "    </tr>\n",
       "    <tr>\n",
       "      <th>167</th>\n",
       "      <td>164</td>\n",
       "      <td>2</td>\n",
       "      <td>Democratic Republic of the Congo</td>\n",
       "      <td>Authoritarian</td>\n",
       "      <td>1.40</td>\n",
       "      <td>0.27</td>\n",
       "      <td>0.75</td>\n",
       "      <td>0.00</td>\n",
       "      <td>2.22</td>\n",
       "      <td>3.13</td>\n",
       "      <td>0.88</td>\n",
       "    </tr>\n",
       "    <tr>\n",
       "      <th>168</th>\n",
       "      <td>165</td>\n",
       "      <td>2</td>\n",
       "      <td>North Korea</td>\n",
       "      <td>Authoritarian</td>\n",
       "      <td>1.08</td>\n",
       "      <td>NaN</td>\n",
       "      <td>0.00</td>\n",
       "      <td>2.50</td>\n",
       "      <td>1.67</td>\n",
       "      <td>1.25</td>\n",
       "      <td>0.00</td>\n",
       "    </tr>\n",
       "    <tr>\n",
       "      <th>169</th>\n",
       "      <td>166</td>\n",
       "      <td>31</td>\n",
       "      <td>Myanmar</td>\n",
       "      <td>Authoritarian</td>\n",
       "      <td>1.02</td>\n",
       "      <td>2.04</td>\n",
       "      <td>0.00</td>\n",
       "      <td>0.00</td>\n",
       "      <td>1.67</td>\n",
       "      <td>3.13</td>\n",
       "      <td>0.29</td>\n",
       "    </tr>\n",
       "    <tr>\n",
       "      <th>170</th>\n",
       "      <td>167</td>\n",
       "      <td>28</td>\n",
       "      <td>Afghanistan</td>\n",
       "      <td>Authoritarian</td>\n",
       "      <td>0.32</td>\n",
       "      <td>2.53</td>\n",
       "      <td>0.00</td>\n",
       "      <td>0.07</td>\n",
       "      <td>0.00</td>\n",
       "      <td>1.25</td>\n",
       "      <td>0.29</td>\n",
       "    </tr>\n",
       "  </tbody>\n",
       "</table>\n",
       "<p>171 rows × 11 columns</p>\n",
       "</div>"
      ],
      "text/plain": [
       "                 Rank  \\\n",
       "0    Full democracies   \n",
       "1                   1   \n",
       "2                   2   \n",
       "3                   3   \n",
       "4                   4   \n",
       "..                ...   \n",
       "166               162   \n",
       "167               164   \n",
       "168               165   \n",
       "169               166   \n",
       "170               167   \n",
       "\n",
       "    .mw-parser-output .tooltip-dotted{border-bottom:1px dotted;cursor:help}Δ Rank  \\\n",
       "0                                     Full democracies                              \n",
       "1                                                  NaN                              \n",
       "2                                                    2                              \n",
       "3                                                    3                              \n",
       "4                                                    1                              \n",
       "..                                                 ...                              \n",
       "166                                                  2                              \n",
       "167                                                  2                              \n",
       "168                                                  2                              \n",
       "169                                                 31                              \n",
       "170                                                 28                              \n",
       "\n",
       "                              Country       Regime type     Overall score  \\\n",
       "0                    Full democracies  Full democracies  Full democracies   \n",
       "1                              Norway    Full democracy              9.75   \n",
       "2                         New Zealand    Full democracy              9.37   \n",
       "3                             Finland    Full democracy              9.27   \n",
       "4                              Sweden    Full democracy              9.26   \n",
       "..                                ...               ...               ...   \n",
       "166          Central African Republic     Authoritarian              1.43   \n",
       "167  Democratic Republic of the Congo     Authoritarian              1.40   \n",
       "168                       North Korea     Authoritarian              1.08   \n",
       "169                           Myanmar     Authoritarian              1.02   \n",
       "170                       Afghanistan     Authoritarian              0.32   \n",
       "\n",
       "              Δ Score Elec­toral pro­cess and plura­lism  \\\n",
       "0    Full democracies                   Full democracies   \n",
       "1                0.06                              10.00   \n",
       "2                0.12                              10.00   \n",
       "3                0.07                              10.00   \n",
       "4                 NaN                               9.58   \n",
       "..                ...                                ...   \n",
       "166              0.11                               1.25   \n",
       "167              0.27                               0.75   \n",
       "168               NaN                               0.00   \n",
       "169              2.04                               0.00   \n",
       "170              2.53                               0.00   \n",
       "\n",
       "    Func­tioning of govern­ment Poli­tical partici­pation Poli­tical cul­ture  \\\n",
       "0              Full democracies          Full democracies    Full democracies   \n",
       "1                          9.64                     10.00               10.00   \n",
       "2                          8.93                      9.44                8.75   \n",
       "3                          9.29                      8.89                8.75   \n",
       "4                          9.29                      8.33               10.00   \n",
       "..                          ...                       ...                 ...   \n",
       "166                        0.00                      1.67                1.88   \n",
       "167                        0.00                      2.22                3.13   \n",
       "168                        2.50                      1.67                1.25   \n",
       "169                        0.00                      1.67                3.13   \n",
       "170                        0.07                      0.00                1.25   \n",
       "\n",
       "     Civil liber­ties  \n",
       "0    Full democracies  \n",
       "1                9.12  \n",
       "2                9.71  \n",
       "3                9.41  \n",
       "4                9.12  \n",
       "..                ...  \n",
       "166              2.35  \n",
       "167              0.88  \n",
       "168              0.00  \n",
       "169              0.29  \n",
       "170              0.29  \n",
       "\n",
       "[171 rows x 11 columns]"
      ]
     },
     "execution_count": 3,
     "metadata": {},
     "output_type": "execute_result"
    }
   ],
   "source": [
    "wikiTables[2]"
   ]
  },
  {
   "cell_type": "markdown",
   "metadata": {},
   "source": [
    "Pandas will show you the _head_ and the _tail_ of the DF. There you can verify if what pandas scrapped is what you expected. \n",
    "\n",
    "Let's create a copy of that DF:"
   ]
  },
  {
   "cell_type": "code",
   "execution_count": 4,
   "metadata": {},
   "outputs": [],
   "source": [
    "DFwiki=wikiTables[2].copy()"
   ]
  },
  {
   "cell_type": "markdown",
   "metadata": {},
   "source": [
    "# I. Cleaning\n",
    "\n",
    "1. Keep columns needed"
   ]
  },
  {
   "cell_type": "code",
   "execution_count": 5,
   "metadata": {},
   "outputs": [
    {
     "data": {
      "text/plain": [
       "['Rank',\n",
       " '.mw-parser-output .tooltip-dotted{border-bottom:1px dotted;cursor:help}Δ Rank',\n",
       " 'Country',\n",
       " 'Regime type',\n",
       " 'Overall score',\n",
       " 'Δ Score',\n",
       " 'Elec\\xadtoral pro\\xadcess and plura\\xadlism',\n",
       " 'Func\\xadtioning of govern\\xadment',\n",
       " 'Poli\\xadtical partici\\xadpation',\n",
       " 'Poli\\xadtical cul\\xadture',\n",
       " 'Civil liber\\xadties']"
      ]
     },
     "execution_count": 5,
     "metadata": {},
     "output_type": "execute_result"
    }
   ],
   "source": [
    "# columns present - add .to_list()\n",
    "DFwiki.columns.to_list()"
   ]
  },
  {
   "cell_type": "code",
   "execution_count": 6,
   "metadata": {},
   "outputs": [
    {
     "data": {
      "text/html": [
       "<div>\n",
       "<style scoped>\n",
       "    .dataframe tbody tr th:only-of-type {\n",
       "        vertical-align: middle;\n",
       "    }\n",
       "\n",
       "    .dataframe tbody tr th {\n",
       "        vertical-align: top;\n",
       "    }\n",
       "\n",
       "    .dataframe thead th {\n",
       "        text-align: right;\n",
       "    }\n",
       "</style>\n",
       "<table border=\"1\" class=\"dataframe\">\n",
       "  <thead>\n",
       "    <tr style=\"text-align: right;\">\n",
       "      <th></th>\n",
       "      <th>Country</th>\n",
       "      <th>Regime type</th>\n",
       "      <th>Overall score</th>\n",
       "      <th>Elec­toral pro­cess and plura­lism</th>\n",
       "      <th>Func­tioning of govern­ment</th>\n",
       "      <th>Poli­tical partici­pation</th>\n",
       "      <th>Poli­tical cul­ture</th>\n",
       "      <th>Civil liber­ties</th>\n",
       "    </tr>\n",
       "  </thead>\n",
       "  <tbody>\n",
       "    <tr>\n",
       "      <th>0</th>\n",
       "      <td>Full democracies</td>\n",
       "      <td>Full democracies</td>\n",
       "      <td>Full democracies</td>\n",
       "      <td>Full democracies</td>\n",
       "      <td>Full democracies</td>\n",
       "      <td>Full democracies</td>\n",
       "      <td>Full democracies</td>\n",
       "      <td>Full democracies</td>\n",
       "    </tr>\n",
       "    <tr>\n",
       "      <th>1</th>\n",
       "      <td>Norway</td>\n",
       "      <td>Full democracy</td>\n",
       "      <td>9.75</td>\n",
       "      <td>10.00</td>\n",
       "      <td>9.64</td>\n",
       "      <td>10.00</td>\n",
       "      <td>10.00</td>\n",
       "      <td>9.12</td>\n",
       "    </tr>\n",
       "    <tr>\n",
       "      <th>2</th>\n",
       "      <td>New Zealand</td>\n",
       "      <td>Full democracy</td>\n",
       "      <td>9.37</td>\n",
       "      <td>10.00</td>\n",
       "      <td>8.93</td>\n",
       "      <td>9.44</td>\n",
       "      <td>8.75</td>\n",
       "      <td>9.71</td>\n",
       "    </tr>\n",
       "    <tr>\n",
       "      <th>3</th>\n",
       "      <td>Finland</td>\n",
       "      <td>Full democracy</td>\n",
       "      <td>9.27</td>\n",
       "      <td>10.00</td>\n",
       "      <td>9.29</td>\n",
       "      <td>8.89</td>\n",
       "      <td>8.75</td>\n",
       "      <td>9.41</td>\n",
       "    </tr>\n",
       "    <tr>\n",
       "      <th>4</th>\n",
       "      <td>Sweden</td>\n",
       "      <td>Full democracy</td>\n",
       "      <td>9.26</td>\n",
       "      <td>9.58</td>\n",
       "      <td>9.29</td>\n",
       "      <td>8.33</td>\n",
       "      <td>10.00</td>\n",
       "      <td>9.12</td>\n",
       "    </tr>\n",
       "    <tr>\n",
       "      <th>...</th>\n",
       "      <td>...</td>\n",
       "      <td>...</td>\n",
       "      <td>...</td>\n",
       "      <td>...</td>\n",
       "      <td>...</td>\n",
       "      <td>...</td>\n",
       "      <td>...</td>\n",
       "      <td>...</td>\n",
       "    </tr>\n",
       "    <tr>\n",
       "      <th>166</th>\n",
       "      <td>Central African Republic</td>\n",
       "      <td>Authoritarian</td>\n",
       "      <td>1.43</td>\n",
       "      <td>1.25</td>\n",
       "      <td>0.00</td>\n",
       "      <td>1.67</td>\n",
       "      <td>1.88</td>\n",
       "      <td>2.35</td>\n",
       "    </tr>\n",
       "    <tr>\n",
       "      <th>167</th>\n",
       "      <td>Democratic Republic of the Congo</td>\n",
       "      <td>Authoritarian</td>\n",
       "      <td>1.40</td>\n",
       "      <td>0.75</td>\n",
       "      <td>0.00</td>\n",
       "      <td>2.22</td>\n",
       "      <td>3.13</td>\n",
       "      <td>0.88</td>\n",
       "    </tr>\n",
       "    <tr>\n",
       "      <th>168</th>\n",
       "      <td>North Korea</td>\n",
       "      <td>Authoritarian</td>\n",
       "      <td>1.08</td>\n",
       "      <td>0.00</td>\n",
       "      <td>2.50</td>\n",
       "      <td>1.67</td>\n",
       "      <td>1.25</td>\n",
       "      <td>0.00</td>\n",
       "    </tr>\n",
       "    <tr>\n",
       "      <th>169</th>\n",
       "      <td>Myanmar</td>\n",
       "      <td>Authoritarian</td>\n",
       "      <td>1.02</td>\n",
       "      <td>0.00</td>\n",
       "      <td>0.00</td>\n",
       "      <td>1.67</td>\n",
       "      <td>3.13</td>\n",
       "      <td>0.29</td>\n",
       "    </tr>\n",
       "    <tr>\n",
       "      <th>170</th>\n",
       "      <td>Afghanistan</td>\n",
       "      <td>Authoritarian</td>\n",
       "      <td>0.32</td>\n",
       "      <td>0.00</td>\n",
       "      <td>0.07</td>\n",
       "      <td>0.00</td>\n",
       "      <td>1.25</td>\n",
       "      <td>0.29</td>\n",
       "    </tr>\n",
       "  </tbody>\n",
       "</table>\n",
       "<p>171 rows × 8 columns</p>\n",
       "</div>"
      ],
      "text/plain": [
       "                              Country       Regime type     Overall score  \\\n",
       "0                    Full democracies  Full democracies  Full democracies   \n",
       "1                              Norway    Full democracy              9.75   \n",
       "2                         New Zealand    Full democracy              9.37   \n",
       "3                             Finland    Full democracy              9.27   \n",
       "4                              Sweden    Full democracy              9.26   \n",
       "..                                ...               ...               ...   \n",
       "166          Central African Republic     Authoritarian              1.43   \n",
       "167  Democratic Republic of the Congo     Authoritarian              1.40   \n",
       "168                       North Korea     Authoritarian              1.08   \n",
       "169                           Myanmar     Authoritarian              1.02   \n",
       "170                       Afghanistan     Authoritarian              0.32   \n",
       "\n",
       "    Elec­toral pro­cess and plura­lism Func­tioning of govern­ment  \\\n",
       "0                     Full democracies            Full democracies   \n",
       "1                                10.00                        9.64   \n",
       "2                                10.00                        8.93   \n",
       "3                                10.00                        9.29   \n",
       "4                                 9.58                        9.29   \n",
       "..                                 ...                         ...   \n",
       "166                               1.25                        0.00   \n",
       "167                               0.75                        0.00   \n",
       "168                               0.00                        2.50   \n",
       "169                               0.00                        0.00   \n",
       "170                               0.00                        0.07   \n",
       "\n",
       "    Poli­tical partici­pation Poli­tical cul­ture  Civil liber­ties  \n",
       "0            Full democracies    Full democracies  Full democracies  \n",
       "1                       10.00               10.00              9.12  \n",
       "2                        9.44                8.75              9.71  \n",
       "3                        8.89                8.75              9.41  \n",
       "4                        8.33               10.00              9.12  \n",
       "..                        ...                 ...               ...  \n",
       "166                      1.67                1.88              2.35  \n",
       "167                      2.22                3.13              0.88  \n",
       "168                      1.67                1.25              0.00  \n",
       "169                      1.67                3.13              0.29  \n",
       "170                      0.00                1.25              0.29  \n",
       "\n",
       "[171 rows x 8 columns]"
      ]
     },
     "execution_count": 6,
     "metadata": {},
     "output_type": "execute_result"
    }
   ],
   "source": [
    "# dropping 1st, 2nd and 6th column\n",
    "bye=[0,1,5]\n",
    "DFwiki.drop(columns=DFwiki.columns[bye],inplace=True)#inplace!!\n",
    "DFwiki"
   ]
  },
  {
   "cell_type": "markdown",
   "metadata": {},
   "source": [
    "2. Check column names"
   ]
  },
  {
   "cell_type": "code",
   "execution_count": 7,
   "metadata": {},
   "outputs": [
    {
     "data": {
      "text/plain": [
       "['Country',\n",
       " 'Regime type',\n",
       " 'Overall score',\n",
       " 'Elec\\xadtoral pro\\xadcess and plura\\xadlism',\n",
       " 'Func\\xadtioning of govern\\xadment',\n",
       " 'Poli\\xadtical partici\\xadpation',\n",
       " 'Poli\\xadtical cul\\xadture',\n",
       " 'Civil liber\\xadties']"
      ]
     },
     "execution_count": 7,
     "metadata": {},
     "output_type": "execute_result"
    }
   ],
   "source": [
    "# add '.to_list()' to see beyond!\n",
    "DFwiki.columns.to_list()"
   ]
  },
  {
   "cell_type": "markdown",
   "metadata": {},
   "source": [
    "Pandas accepts 'special string patterns' or regular expressiones (aka **Regex**). You should take advantage of that. For example, **\\w** means every character from A-Z (or lower case) and  from 0-9. Let me use the opposite **\\W** in the function [str.replace](https://pandas.pydata.org/docs/reference/api/pandas.Series.str.replace.html) from Pandas:"
   ]
  },
  {
   "cell_type": "code",
   "execution_count": 8,
   "metadata": {},
   "outputs": [
    {
     "data": {
      "text/plain": [
       "Index(['Country', 'Regimetype', 'Overallscore', 'Electoralprocessandpluralism',\n",
       "       'Functioningofgovernment', 'Politicalparticipation', 'Politicalculture',\n",
       "       'Civilliberties'],\n",
       "      dtype='object')"
      ]
     },
     "execution_count": 8,
     "metadata": {},
     "output_type": "execute_result"
    }
   ],
   "source": [
    "DFwiki.columns.str.replace(pat=\"\\W\",# the string to replace\n",
    "                           repl=\"\", # the value to replace with\n",
    "                           regex=True) # is 'pat' above a regex?"
   ]
  },
  {
   "cell_type": "code",
   "execution_count": 9,
   "metadata": {},
   "outputs": [
    {
     "data": {
      "text/plain": [
       "['Country',\n",
       " 'Regimetype',\n",
       " 'Overallscore',\n",
       " 'Electoralprocessandpluralism',\n",
       " 'Functioningofgovernment',\n",
       " 'Politicalparticipation',\n",
       " 'Politicalculture',\n",
       " 'Civilliberties']"
      ]
     },
     "execution_count": 9,
     "metadata": {},
     "output_type": "execute_result"
    }
   ],
   "source": [
    "#let's check with .to_list()\n",
    "DFwiki.columns.str.replace(\"\\W\",\"\",regex=True).to_list()"
   ]
  },
  {
   "cell_type": "markdown",
   "metadata": {},
   "source": [
    "Now you can alter the column names:"
   ]
  },
  {
   "cell_type": "code",
   "execution_count": 10,
   "metadata": {},
   "outputs": [],
   "source": [
    "DFwiki.columns=DFwiki.columns.str.replace(\"\\W\",\"\",regex=True).to_list()"
   ]
  },
  {
   "cell_type": "markdown",
   "metadata": {},
   "source": [
    "In this stage, **\\W** got rid of _spaces_ and other non standard characters (did you see the dash in the web page?).\n",
    "\n",
    "Notice:\n",
    "\n",
    "* Some column names may be shortened. What changes would you make? Do you like what [pandas](https://pandas.pydata.org/docs/reference/api/pandas.Series.str.slice.html) offer?"
   ]
  },
  {
   "cell_type": "markdown",
   "metadata": {},
   "source": [
    "3. Check columns with strings as cells:"
   ]
  },
  {
   "cell_type": "code",
   "execution_count": 11,
   "metadata": {},
   "outputs": [
    {
     "data": {
      "text/html": [
       "<div>\n",
       "<style scoped>\n",
       "    .dataframe tbody tr th:only-of-type {\n",
       "        vertical-align: middle;\n",
       "    }\n",
       "\n",
       "    .dataframe tbody tr th {\n",
       "        vertical-align: top;\n",
       "    }\n",
       "\n",
       "    .dataframe thead th {\n",
       "        text-align: right;\n",
       "    }\n",
       "</style>\n",
       "<table border=\"1\" class=\"dataframe\">\n",
       "  <thead>\n",
       "    <tr style=\"text-align: right;\">\n",
       "      <th></th>\n",
       "      <th>Country</th>\n",
       "      <th>Regimetype</th>\n",
       "    </tr>\n",
       "  </thead>\n",
       "  <tbody>\n",
       "    <tr>\n",
       "      <th>0</th>\n",
       "      <td>Full democracies</td>\n",
       "      <td>Full democracies</td>\n",
       "    </tr>\n",
       "    <tr>\n",
       "      <th>1</th>\n",
       "      <td>Norway</td>\n",
       "      <td>Full democracy</td>\n",
       "    </tr>\n",
       "    <tr>\n",
       "      <th>2</th>\n",
       "      <td>New Zealand</td>\n",
       "      <td>Full democracy</td>\n",
       "    </tr>\n",
       "    <tr>\n",
       "      <th>3</th>\n",
       "      <td>Finland</td>\n",
       "      <td>Full democracy</td>\n",
       "    </tr>\n",
       "    <tr>\n",
       "      <th>4</th>\n",
       "      <td>Sweden</td>\n",
       "      <td>Full democracy</td>\n",
       "    </tr>\n",
       "    <tr>\n",
       "      <th>...</th>\n",
       "      <td>...</td>\n",
       "      <td>...</td>\n",
       "    </tr>\n",
       "    <tr>\n",
       "      <th>166</th>\n",
       "      <td>Central African Republic</td>\n",
       "      <td>Authoritarian</td>\n",
       "    </tr>\n",
       "    <tr>\n",
       "      <th>167</th>\n",
       "      <td>Democratic Republic of the Congo</td>\n",
       "      <td>Authoritarian</td>\n",
       "    </tr>\n",
       "    <tr>\n",
       "      <th>168</th>\n",
       "      <td>North Korea</td>\n",
       "      <td>Authoritarian</td>\n",
       "    </tr>\n",
       "    <tr>\n",
       "      <th>169</th>\n",
       "      <td>Myanmar</td>\n",
       "      <td>Authoritarian</td>\n",
       "    </tr>\n",
       "    <tr>\n",
       "      <th>170</th>\n",
       "      <td>Afghanistan</td>\n",
       "      <td>Authoritarian</td>\n",
       "    </tr>\n",
       "  </tbody>\n",
       "</table>\n",
       "<p>171 rows × 2 columns</p>\n",
       "</div>"
      ],
      "text/plain": [
       "                              Country        Regimetype\n",
       "0                    Full democracies  Full democracies\n",
       "1                              Norway    Full democracy\n",
       "2                         New Zealand    Full democracy\n",
       "3                             Finland    Full democracy\n",
       "4                              Sweden    Full democracy\n",
       "..                                ...               ...\n",
       "166          Central African Republic     Authoritarian\n",
       "167  Democratic Republic of the Congo     Authoritarian\n",
       "168                       North Korea     Authoritarian\n",
       "169                           Myanmar     Authoritarian\n",
       "170                       Afghanistan     Authoritarian\n",
       "\n",
       "[171 rows x 2 columns]"
      ]
     },
     "execution_count": 11,
     "metadata": {},
     "output_type": "execute_result"
    }
   ],
   "source": [
    "# for example\n",
    "DFwiki.iloc[:,:2]"
   ]
  },
  {
   "cell_type": "markdown",
   "metadata": {},
   "source": [
    "In general, you need to check that they do not have leading nor trailing spaces:"
   ]
  },
  {
   "cell_type": "code",
   "execution_count": 12,
   "metadata": {},
   "outputs": [
    {
     "data": {
      "text/plain": [
       "'Peru'"
      ]
     },
     "execution_count": 12,
     "metadata": {},
     "output_type": "execute_result"
    }
   ],
   "source": [
    "# basic Python (no pandas)\n",
    "\" Peru \".strip()"
   ]
  },
  {
   "cell_type": "markdown",
   "metadata": {},
   "source": [
    "The basic Python generally will be useful, but let's keep learning what Pandas offers:"
   ]
  },
  {
   "cell_type": "code",
   "execution_count": 13,
   "metadata": {},
   "outputs": [
    {
     "data": {
      "text/plain": [
       "0                      Full democracies\n",
       "1                                Norway\n",
       "2                           New Zealand\n",
       "3                               Finland\n",
       "4                                Sweden\n",
       "                     ...               \n",
       "166            Central African Republic\n",
       "167    Democratic Republic of the Congo\n",
       "168                         North Korea\n",
       "169                             Myanmar\n",
       "170                         Afghanistan\n",
       "Name: Country, Length: 171, dtype: object"
      ]
     },
     "execution_count": 13,
     "metadata": {},
     "output_type": "execute_result"
    }
   ],
   "source": [
    "DFwiki.Country.str.strip()"
   ]
  },
  {
   "cell_type": "markdown",
   "metadata": {},
   "source": [
    "However, the scope of this function is the column (the series) and it can only be applied on one column at a time. That is,  you have to use it as many  times as there are columns in your data. "
   ]
  },
  {
   "cell_type": "code",
   "execution_count": 14,
   "metadata": {},
   "outputs": [],
   "source": [
    "# this will not work:\n",
    "\n",
    "# DFwiki.iloc[:,:2].str.strip()"
   ]
  },
  {
   "cell_type": "markdown",
   "metadata": {},
   "source": [
    "Fortunately, there is a way to **apply** that function to several columns:"
   ]
  },
  {
   "cell_type": "code",
   "execution_count": 15,
   "metadata": {},
   "outputs": [
    {
     "data": {
      "text/html": [
       "<div>\n",
       "<style scoped>\n",
       "    .dataframe tbody tr th:only-of-type {\n",
       "        vertical-align: middle;\n",
       "    }\n",
       "\n",
       "    .dataframe tbody tr th {\n",
       "        vertical-align: top;\n",
       "    }\n",
       "\n",
       "    .dataframe thead th {\n",
       "        text-align: right;\n",
       "    }\n",
       "</style>\n",
       "<table border=\"1\" class=\"dataframe\">\n",
       "  <thead>\n",
       "    <tr style=\"text-align: right;\">\n",
       "      <th></th>\n",
       "      <th>Country</th>\n",
       "      <th>Regimetype</th>\n",
       "    </tr>\n",
       "  </thead>\n",
       "  <tbody>\n",
       "    <tr>\n",
       "      <th>0</th>\n",
       "      <td>Full democracies</td>\n",
       "      <td>Full democracies</td>\n",
       "    </tr>\n",
       "    <tr>\n",
       "      <th>1</th>\n",
       "      <td>Norway</td>\n",
       "      <td>Full democracy</td>\n",
       "    </tr>\n",
       "    <tr>\n",
       "      <th>2</th>\n",
       "      <td>New Zealand</td>\n",
       "      <td>Full democracy</td>\n",
       "    </tr>\n",
       "    <tr>\n",
       "      <th>3</th>\n",
       "      <td>Finland</td>\n",
       "      <td>Full democracy</td>\n",
       "    </tr>\n",
       "    <tr>\n",
       "      <th>4</th>\n",
       "      <td>Sweden</td>\n",
       "      <td>Full democracy</td>\n",
       "    </tr>\n",
       "    <tr>\n",
       "      <th>...</th>\n",
       "      <td>...</td>\n",
       "      <td>...</td>\n",
       "    </tr>\n",
       "    <tr>\n",
       "      <th>166</th>\n",
       "      <td>Central African Republic</td>\n",
       "      <td>Authoritarian</td>\n",
       "    </tr>\n",
       "    <tr>\n",
       "      <th>167</th>\n",
       "      <td>Democratic Republic of the Congo</td>\n",
       "      <td>Authoritarian</td>\n",
       "    </tr>\n",
       "    <tr>\n",
       "      <th>168</th>\n",
       "      <td>North Korea</td>\n",
       "      <td>Authoritarian</td>\n",
       "    </tr>\n",
       "    <tr>\n",
       "      <th>169</th>\n",
       "      <td>Myanmar</td>\n",
       "      <td>Authoritarian</td>\n",
       "    </tr>\n",
       "    <tr>\n",
       "      <th>170</th>\n",
       "      <td>Afghanistan</td>\n",
       "      <td>Authoritarian</td>\n",
       "    </tr>\n",
       "  </tbody>\n",
       "</table>\n",
       "<p>171 rows × 2 columns</p>\n",
       "</div>"
      ],
      "text/plain": [
       "                              Country        Regimetype\n",
       "0                    Full democracies  Full democracies\n",
       "1                              Norway    Full democracy\n",
       "2                         New Zealand    Full democracy\n",
       "3                             Finland    Full democracy\n",
       "4                              Sweden    Full democracy\n",
       "..                                ...               ...\n",
       "166          Central African Republic     Authoritarian\n",
       "167  Democratic Republic of the Congo     Authoritarian\n",
       "168                       North Korea     Authoritarian\n",
       "169                           Myanmar     Authoritarian\n",
       "170                       Afghanistan     Authoritarian\n",
       "\n",
       "[171 rows x 2 columns]"
      ]
     },
     "execution_count": 15,
     "metadata": {},
     "output_type": "execute_result"
    }
   ],
   "source": [
    "# create function for multiple use:\n",
    "stripSeveral=lambda x: x.str.strip() # x is a will be a series\n",
    "\n",
    "#apply function just created\n",
    "DFwiki.iloc[:,:2].apply(stripSeveral)"
   ]
  },
  {
   "cell_type": "markdown",
   "metadata": {},
   "source": [
    "You can make the changes:"
   ]
  },
  {
   "cell_type": "code",
   "execution_count": 16,
   "metadata": {},
   "outputs": [],
   "source": [
    "# let's actually make the changes!\n",
    "DFwiki.iloc[:,:2]=DFwiki.iloc[:,:2].apply(stripSeveral)"
   ]
  },
  {
   "cell_type": "markdown",
   "metadata": {},
   "source": [
    "4. Check levels of Categorical variables"
   ]
  },
  {
   "cell_type": "code",
   "execution_count": 17,
   "metadata": {},
   "outputs": [
    {
     "data": {
      "text/plain": [
       "0      Full democracies\n",
       "1        Full democracy\n",
       "2        Full democracy\n",
       "3        Full democracy\n",
       "4        Full democracy\n",
       "             ...       \n",
       "166       Authoritarian\n",
       "167       Authoritarian\n",
       "168       Authoritarian\n",
       "169       Authoritarian\n",
       "170       Authoritarian\n",
       "Name: Regimetype, Length: 171, dtype: object"
      ]
     },
     "execution_count": 17,
     "metadata": {},
     "output_type": "execute_result"
    }
   ],
   "source": [
    "# this is one categorical variable\n",
    "DFwiki.iloc[:,1]"
   ]
  },
  {
   "cell_type": "markdown",
   "metadata": {},
   "source": [
    "You should always prepare a **frequency table** to detect possible errors:"
   ]
  },
  {
   "cell_type": "code",
   "execution_count": 18,
   "metadata": {},
   "outputs": [
    {
     "data": {
      "text/plain": [
       "Authoritarian            59\n",
       "Flawed democracy         53\n",
       "Hybrid regime            34\n",
       "Full democracy           21\n",
       "Full democracies          1\n",
       "Flawed democracies        1\n",
       "Hybrid regimes            1\n",
       "Authoritarian regimes     1\n",
       "Name: Regimetype, dtype: int64"
      ]
     },
     "execution_count": 18,
     "metadata": {},
     "output_type": "execute_result"
    }
   ],
   "source": [
    "DFwiki.Regimetype.value_counts()"
   ]
  },
  {
   "cell_type": "markdown",
   "metadata": {},
   "source": [
    "Notice the similar values that only have one count. Those are not levels. If you visit the webpage you will see they are labels of sections in the table. \n",
    "\n",
    "Let's go step by step:"
   ]
  },
  {
   "cell_type": "code",
   "execution_count": 19,
   "metadata": {},
   "outputs": [
    {
     "data": {
      "text/plain": [
       "Authoritarian            59\n",
       "Flawed democracy         53\n",
       "Hybrid regime            34\n",
       "Full democracy           21\n",
       "Full democracies          1\n",
       "Flawed democracies        1\n",
       "Hybrid regimes            1\n",
       "Authoritarian regimes     1\n",
       "Name: Regimetype, dtype: int64"
      ]
     },
     "execution_count": 19,
     "metadata": {},
     "output_type": "execute_result"
    }
   ],
   "source": [
    "# save the frequency table:\n",
    "tableCounts=DFwiki.Regimetype.value_counts()\n",
    "tableCounts"
   ]
  },
  {
   "cell_type": "code",
   "execution_count": 20,
   "metadata": {},
   "outputs": [
    {
     "data": {
      "text/plain": [
       "Full democracies         1\n",
       "Flawed democracies       1\n",
       "Hybrid regimes           1\n",
       "Authoritarian regimes    1\n",
       "Name: Regimetype, dtype: int64"
      ]
     },
     "execution_count": 20,
     "metadata": {},
     "output_type": "execute_result"
    }
   ],
   "source": [
    "# check the ONE counts\n",
    "tableCounts[tableCounts==1]"
   ]
  },
  {
   "cell_type": "code",
   "execution_count": 21,
   "metadata": {},
   "outputs": [
    {
     "data": {
      "text/plain": [
       "['Full democracies',\n",
       " 'Flawed democracies',\n",
       " 'Hybrid regimes',\n",
       " 'Authoritarian regimes']"
      ]
     },
     "execution_count": 21,
     "metadata": {},
     "output_type": "execute_result"
    }
   ],
   "source": [
    "# keep the names of the rows as a list (indexes as list)\n",
    "badLevels=tableCounts[tableCounts==1].index.to_list()\n",
    "badLevels"
   ]
  },
  {
   "cell_type": "markdown",
   "metadata": {},
   "source": [
    "Let's erase the rows with those values from the data:"
   ]
  },
  {
   "cell_type": "code",
   "execution_count": 22,
   "metadata": {},
   "outputs": [
    {
     "data": {
      "text/html": [
       "<div>\n",
       "<style scoped>\n",
       "    .dataframe tbody tr th:only-of-type {\n",
       "        vertical-align: middle;\n",
       "    }\n",
       "\n",
       "    .dataframe tbody tr th {\n",
       "        vertical-align: top;\n",
       "    }\n",
       "\n",
       "    .dataframe thead th {\n",
       "        text-align: right;\n",
       "    }\n",
       "</style>\n",
       "<table border=\"1\" class=\"dataframe\">\n",
       "  <thead>\n",
       "    <tr style=\"text-align: right;\">\n",
       "      <th></th>\n",
       "      <th>Country</th>\n",
       "      <th>Regimetype</th>\n",
       "      <th>Overallscore</th>\n",
       "      <th>Electoralprocessandpluralism</th>\n",
       "      <th>Functioningofgovernment</th>\n",
       "      <th>Politicalparticipation</th>\n",
       "      <th>Politicalculture</th>\n",
       "      <th>Civilliberties</th>\n",
       "    </tr>\n",
       "  </thead>\n",
       "  <tbody>\n",
       "    <tr>\n",
       "      <th>0</th>\n",
       "      <td>Full democracies</td>\n",
       "      <td>Full democracies</td>\n",
       "      <td>Full democracies</td>\n",
       "      <td>Full democracies</td>\n",
       "      <td>Full democracies</td>\n",
       "      <td>Full democracies</td>\n",
       "      <td>Full democracies</td>\n",
       "      <td>Full democracies</td>\n",
       "    </tr>\n",
       "    <tr>\n",
       "      <th>22</th>\n",
       "      <td>Flawed democracies</td>\n",
       "      <td>Flawed democracies</td>\n",
       "      <td>Flawed democracies</td>\n",
       "      <td>Flawed democracies</td>\n",
       "      <td>Flawed democracies</td>\n",
       "      <td>Flawed democracies</td>\n",
       "      <td>Flawed democracies</td>\n",
       "      <td>Flawed democracies</td>\n",
       "    </tr>\n",
       "    <tr>\n",
       "      <th>76</th>\n",
       "      <td>Hybrid regimes</td>\n",
       "      <td>Hybrid regimes</td>\n",
       "      <td>Hybrid regimes</td>\n",
       "      <td>Hybrid regimes</td>\n",
       "      <td>Hybrid regimes</td>\n",
       "      <td>Hybrid regimes</td>\n",
       "      <td>Hybrid regimes</td>\n",
       "      <td>Hybrid regimes</td>\n",
       "    </tr>\n",
       "    <tr>\n",
       "      <th>111</th>\n",
       "      <td>Authoritarian regimes</td>\n",
       "      <td>Authoritarian regimes</td>\n",
       "      <td>Authoritarian regimes</td>\n",
       "      <td>Authoritarian regimes</td>\n",
       "      <td>Authoritarian regimes</td>\n",
       "      <td>Authoritarian regimes</td>\n",
       "      <td>Authoritarian regimes</td>\n",
       "      <td>Authoritarian regimes</td>\n",
       "    </tr>\n",
       "  </tbody>\n",
       "</table>\n",
       "</div>"
      ],
      "text/plain": [
       "                   Country             Regimetype           Overallscore  \\\n",
       "0         Full democracies       Full democracies       Full democracies   \n",
       "22      Flawed democracies     Flawed democracies     Flawed democracies   \n",
       "76          Hybrid regimes         Hybrid regimes         Hybrid regimes   \n",
       "111  Authoritarian regimes  Authoritarian regimes  Authoritarian regimes   \n",
       "\n",
       "    Electoralprocessandpluralism Functioningofgovernment  \\\n",
       "0               Full democracies        Full democracies   \n",
       "22            Flawed democracies      Flawed democracies   \n",
       "76                Hybrid regimes          Hybrid regimes   \n",
       "111        Authoritarian regimes   Authoritarian regimes   \n",
       "\n",
       "    Politicalparticipation       Politicalculture         Civilliberties  \n",
       "0         Full democracies       Full democracies       Full democracies  \n",
       "22      Flawed democracies     Flawed democracies     Flawed democracies  \n",
       "76          Hybrid regimes         Hybrid regimes         Hybrid regimes  \n",
       "111  Authoritarian regimes  Authoritarian regimes  Authoritarian regimes  "
      ]
     },
     "execution_count": 22,
     "metadata": {},
     "output_type": "execute_result"
    }
   ],
   "source": [
    "# are these wrong?\n",
    "DFwiki[DFwiki.Regimetype.isin(badLevels)]"
   ]
  },
  {
   "cell_type": "markdown",
   "metadata": {},
   "source": [
    "Then, we are good without them:"
   ]
  },
  {
   "cell_type": "code",
   "execution_count": 23,
   "metadata": {},
   "outputs": [
    {
     "data": {
      "text/html": [
       "<div>\n",
       "<style scoped>\n",
       "    .dataframe tbody tr th:only-of-type {\n",
       "        vertical-align: middle;\n",
       "    }\n",
       "\n",
       "    .dataframe tbody tr th {\n",
       "        vertical-align: top;\n",
       "    }\n",
       "\n",
       "    .dataframe thead th {\n",
       "        text-align: right;\n",
       "    }\n",
       "</style>\n",
       "<table border=\"1\" class=\"dataframe\">\n",
       "  <thead>\n",
       "    <tr style=\"text-align: right;\">\n",
       "      <th></th>\n",
       "      <th>Country</th>\n",
       "      <th>Regimetype</th>\n",
       "      <th>Overallscore</th>\n",
       "      <th>Electoralprocessandpluralism</th>\n",
       "      <th>Functioningofgovernment</th>\n",
       "      <th>Politicalparticipation</th>\n",
       "      <th>Politicalculture</th>\n",
       "      <th>Civilliberties</th>\n",
       "    </tr>\n",
       "  </thead>\n",
       "  <tbody>\n",
       "    <tr>\n",
       "      <th>1</th>\n",
       "      <td>Norway</td>\n",
       "      <td>Full democracy</td>\n",
       "      <td>9.75</td>\n",
       "      <td>10.00</td>\n",
       "      <td>9.64</td>\n",
       "      <td>10.00</td>\n",
       "      <td>10.00</td>\n",
       "      <td>9.12</td>\n",
       "    </tr>\n",
       "    <tr>\n",
       "      <th>2</th>\n",
       "      <td>New Zealand</td>\n",
       "      <td>Full democracy</td>\n",
       "      <td>9.37</td>\n",
       "      <td>10.00</td>\n",
       "      <td>8.93</td>\n",
       "      <td>9.44</td>\n",
       "      <td>8.75</td>\n",
       "      <td>9.71</td>\n",
       "    </tr>\n",
       "    <tr>\n",
       "      <th>3</th>\n",
       "      <td>Finland</td>\n",
       "      <td>Full democracy</td>\n",
       "      <td>9.27</td>\n",
       "      <td>10.00</td>\n",
       "      <td>9.29</td>\n",
       "      <td>8.89</td>\n",
       "      <td>8.75</td>\n",
       "      <td>9.41</td>\n",
       "    </tr>\n",
       "    <tr>\n",
       "      <th>4</th>\n",
       "      <td>Sweden</td>\n",
       "      <td>Full democracy</td>\n",
       "      <td>9.26</td>\n",
       "      <td>9.58</td>\n",
       "      <td>9.29</td>\n",
       "      <td>8.33</td>\n",
       "      <td>10.00</td>\n",
       "      <td>9.12</td>\n",
       "    </tr>\n",
       "    <tr>\n",
       "      <th>5</th>\n",
       "      <td>Iceland</td>\n",
       "      <td>Full democracy</td>\n",
       "      <td>9.18</td>\n",
       "      <td>10.00</td>\n",
       "      <td>8.21</td>\n",
       "      <td>8.89</td>\n",
       "      <td>9.38</td>\n",
       "      <td>9.41</td>\n",
       "    </tr>\n",
       "    <tr>\n",
       "      <th>...</th>\n",
       "      <td>...</td>\n",
       "      <td>...</td>\n",
       "      <td>...</td>\n",
       "      <td>...</td>\n",
       "      <td>...</td>\n",
       "      <td>...</td>\n",
       "      <td>...</td>\n",
       "      <td>...</td>\n",
       "    </tr>\n",
       "    <tr>\n",
       "      <th>166</th>\n",
       "      <td>Central African Republic</td>\n",
       "      <td>Authoritarian</td>\n",
       "      <td>1.43</td>\n",
       "      <td>1.25</td>\n",
       "      <td>0.00</td>\n",
       "      <td>1.67</td>\n",
       "      <td>1.88</td>\n",
       "      <td>2.35</td>\n",
       "    </tr>\n",
       "    <tr>\n",
       "      <th>167</th>\n",
       "      <td>Democratic Republic of the Congo</td>\n",
       "      <td>Authoritarian</td>\n",
       "      <td>1.40</td>\n",
       "      <td>0.75</td>\n",
       "      <td>0.00</td>\n",
       "      <td>2.22</td>\n",
       "      <td>3.13</td>\n",
       "      <td>0.88</td>\n",
       "    </tr>\n",
       "    <tr>\n",
       "      <th>168</th>\n",
       "      <td>North Korea</td>\n",
       "      <td>Authoritarian</td>\n",
       "      <td>1.08</td>\n",
       "      <td>0.00</td>\n",
       "      <td>2.50</td>\n",
       "      <td>1.67</td>\n",
       "      <td>1.25</td>\n",
       "      <td>0.00</td>\n",
       "    </tr>\n",
       "    <tr>\n",
       "      <th>169</th>\n",
       "      <td>Myanmar</td>\n",
       "      <td>Authoritarian</td>\n",
       "      <td>1.02</td>\n",
       "      <td>0.00</td>\n",
       "      <td>0.00</td>\n",
       "      <td>1.67</td>\n",
       "      <td>3.13</td>\n",
       "      <td>0.29</td>\n",
       "    </tr>\n",
       "    <tr>\n",
       "      <th>170</th>\n",
       "      <td>Afghanistan</td>\n",
       "      <td>Authoritarian</td>\n",
       "      <td>0.32</td>\n",
       "      <td>0.00</td>\n",
       "      <td>0.07</td>\n",
       "      <td>0.00</td>\n",
       "      <td>1.25</td>\n",
       "      <td>0.29</td>\n",
       "    </tr>\n",
       "  </tbody>\n",
       "</table>\n",
       "<p>167 rows × 8 columns</p>\n",
       "</div>"
      ],
      "text/plain": [
       "                              Country      Regimetype Overallscore  \\\n",
       "1                              Norway  Full democracy         9.75   \n",
       "2                         New Zealand  Full democracy         9.37   \n",
       "3                             Finland  Full democracy         9.27   \n",
       "4                              Sweden  Full democracy         9.26   \n",
       "5                             Iceland  Full democracy         9.18   \n",
       "..                                ...             ...          ...   \n",
       "166          Central African Republic   Authoritarian         1.43   \n",
       "167  Democratic Republic of the Congo   Authoritarian         1.40   \n",
       "168                       North Korea   Authoritarian         1.08   \n",
       "169                           Myanmar   Authoritarian         1.02   \n",
       "170                       Afghanistan   Authoritarian         0.32   \n",
       "\n",
       "    Electoralprocessandpluralism Functioningofgovernment  \\\n",
       "1                          10.00                    9.64   \n",
       "2                          10.00                    8.93   \n",
       "3                          10.00                    9.29   \n",
       "4                           9.58                    9.29   \n",
       "5                          10.00                    8.21   \n",
       "..                           ...                     ...   \n",
       "166                         1.25                    0.00   \n",
       "167                         0.75                    0.00   \n",
       "168                         0.00                    2.50   \n",
       "169                         0.00                    0.00   \n",
       "170                         0.00                    0.07   \n",
       "\n",
       "    Politicalparticipation Politicalculture Civilliberties  \n",
       "1                    10.00            10.00           9.12  \n",
       "2                     9.44             8.75           9.71  \n",
       "3                     8.89             8.75           9.41  \n",
       "4                     8.33            10.00           9.12  \n",
       "5                     8.89             9.38           9.41  \n",
       "..                     ...              ...            ...  \n",
       "166                   1.67             1.88           2.35  \n",
       "167                   2.22             3.13           0.88  \n",
       "168                   1.67             1.25           0.00  \n",
       "169                   1.67             3.13           0.29  \n",
       "170                   0.00             1.25           0.29  \n",
       "\n",
       "[167 rows x 8 columns]"
      ]
     },
     "execution_count": 23,
     "metadata": {},
     "output_type": "execute_result"
    }
   ],
   "source": [
    "DFwiki=DFwiki[~DFwiki.Regimetype.isin(badLevels)]\n",
    "DFwiki"
   ]
  },
  {
   "cell_type": "markdown",
   "metadata": {},
   "source": [
    "Notice that the amount of rows reported does not correlate with the number or rows seen. This always happens when you delete rows, because the row index does not update automatically. So, you will need to reset the indexes:"
   ]
  },
  {
   "cell_type": "code",
   "execution_count": 24,
   "metadata": {},
   "outputs": [
    {
     "data": {
      "text/html": [
       "<div>\n",
       "<style scoped>\n",
       "    .dataframe tbody tr th:only-of-type {\n",
       "        vertical-align: middle;\n",
       "    }\n",
       "\n",
       "    .dataframe tbody tr th {\n",
       "        vertical-align: top;\n",
       "    }\n",
       "\n",
       "    .dataframe thead th {\n",
       "        text-align: right;\n",
       "    }\n",
       "</style>\n",
       "<table border=\"1\" class=\"dataframe\">\n",
       "  <thead>\n",
       "    <tr style=\"text-align: right;\">\n",
       "      <th></th>\n",
       "      <th>index</th>\n",
       "      <th>Country</th>\n",
       "      <th>Regimetype</th>\n",
       "      <th>Overallscore</th>\n",
       "      <th>Electoralprocessandpluralism</th>\n",
       "      <th>Functioningofgovernment</th>\n",
       "      <th>Politicalparticipation</th>\n",
       "      <th>Politicalculture</th>\n",
       "      <th>Civilliberties</th>\n",
       "    </tr>\n",
       "  </thead>\n",
       "  <tbody>\n",
       "    <tr>\n",
       "      <th>0</th>\n",
       "      <td>1</td>\n",
       "      <td>Norway</td>\n",
       "      <td>Full democracy</td>\n",
       "      <td>9.75</td>\n",
       "      <td>10.00</td>\n",
       "      <td>9.64</td>\n",
       "      <td>10.00</td>\n",
       "      <td>10.00</td>\n",
       "      <td>9.12</td>\n",
       "    </tr>\n",
       "    <tr>\n",
       "      <th>1</th>\n",
       "      <td>2</td>\n",
       "      <td>New Zealand</td>\n",
       "      <td>Full democracy</td>\n",
       "      <td>9.37</td>\n",
       "      <td>10.00</td>\n",
       "      <td>8.93</td>\n",
       "      <td>9.44</td>\n",
       "      <td>8.75</td>\n",
       "      <td>9.71</td>\n",
       "    </tr>\n",
       "    <tr>\n",
       "      <th>2</th>\n",
       "      <td>3</td>\n",
       "      <td>Finland</td>\n",
       "      <td>Full democracy</td>\n",
       "      <td>9.27</td>\n",
       "      <td>10.00</td>\n",
       "      <td>9.29</td>\n",
       "      <td>8.89</td>\n",
       "      <td>8.75</td>\n",
       "      <td>9.41</td>\n",
       "    </tr>\n",
       "    <tr>\n",
       "      <th>3</th>\n",
       "      <td>4</td>\n",
       "      <td>Sweden</td>\n",
       "      <td>Full democracy</td>\n",
       "      <td>9.26</td>\n",
       "      <td>9.58</td>\n",
       "      <td>9.29</td>\n",
       "      <td>8.33</td>\n",
       "      <td>10.00</td>\n",
       "      <td>9.12</td>\n",
       "    </tr>\n",
       "    <tr>\n",
       "      <th>4</th>\n",
       "      <td>5</td>\n",
       "      <td>Iceland</td>\n",
       "      <td>Full democracy</td>\n",
       "      <td>9.18</td>\n",
       "      <td>10.00</td>\n",
       "      <td>8.21</td>\n",
       "      <td>8.89</td>\n",
       "      <td>9.38</td>\n",
       "      <td>9.41</td>\n",
       "    </tr>\n",
       "    <tr>\n",
       "      <th>...</th>\n",
       "      <td>...</td>\n",
       "      <td>...</td>\n",
       "      <td>...</td>\n",
       "      <td>...</td>\n",
       "      <td>...</td>\n",
       "      <td>...</td>\n",
       "      <td>...</td>\n",
       "      <td>...</td>\n",
       "      <td>...</td>\n",
       "    </tr>\n",
       "    <tr>\n",
       "      <th>162</th>\n",
       "      <td>166</td>\n",
       "      <td>Central African Republic</td>\n",
       "      <td>Authoritarian</td>\n",
       "      <td>1.43</td>\n",
       "      <td>1.25</td>\n",
       "      <td>0.00</td>\n",
       "      <td>1.67</td>\n",
       "      <td>1.88</td>\n",
       "      <td>2.35</td>\n",
       "    </tr>\n",
       "    <tr>\n",
       "      <th>163</th>\n",
       "      <td>167</td>\n",
       "      <td>Democratic Republic of the Congo</td>\n",
       "      <td>Authoritarian</td>\n",
       "      <td>1.40</td>\n",
       "      <td>0.75</td>\n",
       "      <td>0.00</td>\n",
       "      <td>2.22</td>\n",
       "      <td>3.13</td>\n",
       "      <td>0.88</td>\n",
       "    </tr>\n",
       "    <tr>\n",
       "      <th>164</th>\n",
       "      <td>168</td>\n",
       "      <td>North Korea</td>\n",
       "      <td>Authoritarian</td>\n",
       "      <td>1.08</td>\n",
       "      <td>0.00</td>\n",
       "      <td>2.50</td>\n",
       "      <td>1.67</td>\n",
       "      <td>1.25</td>\n",
       "      <td>0.00</td>\n",
       "    </tr>\n",
       "    <tr>\n",
       "      <th>165</th>\n",
       "      <td>169</td>\n",
       "      <td>Myanmar</td>\n",
       "      <td>Authoritarian</td>\n",
       "      <td>1.02</td>\n",
       "      <td>0.00</td>\n",
       "      <td>0.00</td>\n",
       "      <td>1.67</td>\n",
       "      <td>3.13</td>\n",
       "      <td>0.29</td>\n",
       "    </tr>\n",
       "    <tr>\n",
       "      <th>166</th>\n",
       "      <td>170</td>\n",
       "      <td>Afghanistan</td>\n",
       "      <td>Authoritarian</td>\n",
       "      <td>0.32</td>\n",
       "      <td>0.00</td>\n",
       "      <td>0.07</td>\n",
       "      <td>0.00</td>\n",
       "      <td>1.25</td>\n",
       "      <td>0.29</td>\n",
       "    </tr>\n",
       "  </tbody>\n",
       "</table>\n",
       "<p>167 rows × 9 columns</p>\n",
       "</div>"
      ],
      "text/plain": [
       "     index                           Country      Regimetype Overallscore  \\\n",
       "0        1                            Norway  Full democracy         9.75   \n",
       "1        2                       New Zealand  Full democracy         9.37   \n",
       "2        3                           Finland  Full democracy         9.27   \n",
       "3        4                            Sweden  Full democracy         9.26   \n",
       "4        5                           Iceland  Full democracy         9.18   \n",
       "..     ...                               ...             ...          ...   \n",
       "162    166          Central African Republic   Authoritarian         1.43   \n",
       "163    167  Democratic Republic of the Congo   Authoritarian         1.40   \n",
       "164    168                       North Korea   Authoritarian         1.08   \n",
       "165    169                           Myanmar   Authoritarian         1.02   \n",
       "166    170                       Afghanistan   Authoritarian         0.32   \n",
       "\n",
       "    Electoralprocessandpluralism Functioningofgovernment  \\\n",
       "0                          10.00                    9.64   \n",
       "1                          10.00                    8.93   \n",
       "2                          10.00                    9.29   \n",
       "3                           9.58                    9.29   \n",
       "4                          10.00                    8.21   \n",
       "..                           ...                     ...   \n",
       "162                         1.25                    0.00   \n",
       "163                         0.75                    0.00   \n",
       "164                         0.00                    2.50   \n",
       "165                         0.00                    0.00   \n",
       "166                         0.00                    0.07   \n",
       "\n",
       "    Politicalparticipation Politicalculture Civilliberties  \n",
       "0                    10.00            10.00           9.12  \n",
       "1                     9.44             8.75           9.71  \n",
       "2                     8.89             8.75           9.41  \n",
       "3                     8.33            10.00           9.12  \n",
       "4                     8.89             9.38           9.41  \n",
       "..                     ...              ...            ...  \n",
       "162                   1.67             1.88           2.35  \n",
       "163                   2.22             3.13           0.88  \n",
       "164                   1.67             1.25           0.00  \n",
       "165                   1.67             3.13           0.29  \n",
       "166                   0.00             1.25           0.29  \n",
       "\n",
       "[167 rows x 9 columns]"
      ]
     },
     "execution_count": 24,
     "metadata": {},
     "output_type": "execute_result"
    }
   ],
   "source": [
    "DFwiki.reset_index()"
   ]
  },
  {
   "cell_type": "markdown",
   "metadata": {},
   "source": [
    "Resetting the index shows the previous behavior by default, that is, it keeps the old index. In general, you do not want that, so you use the [function](https://pandas.pydata.org/docs/reference/api/pandas.DataFrame.reset_index.html) this way:"
   ]
  },
  {
   "cell_type": "code",
   "execution_count": 25,
   "metadata": {},
   "outputs": [
    {
     "data": {
      "text/html": [
       "<div>\n",
       "<style scoped>\n",
       "    .dataframe tbody tr th:only-of-type {\n",
       "        vertical-align: middle;\n",
       "    }\n",
       "\n",
       "    .dataframe tbody tr th {\n",
       "        vertical-align: top;\n",
       "    }\n",
       "\n",
       "    .dataframe thead th {\n",
       "        text-align: right;\n",
       "    }\n",
       "</style>\n",
       "<table border=\"1\" class=\"dataframe\">\n",
       "  <thead>\n",
       "    <tr style=\"text-align: right;\">\n",
       "      <th></th>\n",
       "      <th>Country</th>\n",
       "      <th>Regimetype</th>\n",
       "      <th>Overallscore</th>\n",
       "      <th>Electoralprocessandpluralism</th>\n",
       "      <th>Functioningofgovernment</th>\n",
       "      <th>Politicalparticipation</th>\n",
       "      <th>Politicalculture</th>\n",
       "      <th>Civilliberties</th>\n",
       "    </tr>\n",
       "  </thead>\n",
       "  <tbody>\n",
       "    <tr>\n",
       "      <th>0</th>\n",
       "      <td>Norway</td>\n",
       "      <td>Full democracy</td>\n",
       "      <td>9.75</td>\n",
       "      <td>10.00</td>\n",
       "      <td>9.64</td>\n",
       "      <td>10.00</td>\n",
       "      <td>10.00</td>\n",
       "      <td>9.12</td>\n",
       "    </tr>\n",
       "    <tr>\n",
       "      <th>1</th>\n",
       "      <td>New Zealand</td>\n",
       "      <td>Full democracy</td>\n",
       "      <td>9.37</td>\n",
       "      <td>10.00</td>\n",
       "      <td>8.93</td>\n",
       "      <td>9.44</td>\n",
       "      <td>8.75</td>\n",
       "      <td>9.71</td>\n",
       "    </tr>\n",
       "    <tr>\n",
       "      <th>2</th>\n",
       "      <td>Finland</td>\n",
       "      <td>Full democracy</td>\n",
       "      <td>9.27</td>\n",
       "      <td>10.00</td>\n",
       "      <td>9.29</td>\n",
       "      <td>8.89</td>\n",
       "      <td>8.75</td>\n",
       "      <td>9.41</td>\n",
       "    </tr>\n",
       "    <tr>\n",
       "      <th>3</th>\n",
       "      <td>Sweden</td>\n",
       "      <td>Full democracy</td>\n",
       "      <td>9.26</td>\n",
       "      <td>9.58</td>\n",
       "      <td>9.29</td>\n",
       "      <td>8.33</td>\n",
       "      <td>10.00</td>\n",
       "      <td>9.12</td>\n",
       "    </tr>\n",
       "    <tr>\n",
       "      <th>4</th>\n",
       "      <td>Iceland</td>\n",
       "      <td>Full democracy</td>\n",
       "      <td>9.18</td>\n",
       "      <td>10.00</td>\n",
       "      <td>8.21</td>\n",
       "      <td>8.89</td>\n",
       "      <td>9.38</td>\n",
       "      <td>9.41</td>\n",
       "    </tr>\n",
       "    <tr>\n",
       "      <th>...</th>\n",
       "      <td>...</td>\n",
       "      <td>...</td>\n",
       "      <td>...</td>\n",
       "      <td>...</td>\n",
       "      <td>...</td>\n",
       "      <td>...</td>\n",
       "      <td>...</td>\n",
       "      <td>...</td>\n",
       "    </tr>\n",
       "    <tr>\n",
       "      <th>162</th>\n",
       "      <td>Central African Republic</td>\n",
       "      <td>Authoritarian</td>\n",
       "      <td>1.43</td>\n",
       "      <td>1.25</td>\n",
       "      <td>0.00</td>\n",
       "      <td>1.67</td>\n",
       "      <td>1.88</td>\n",
       "      <td>2.35</td>\n",
       "    </tr>\n",
       "    <tr>\n",
       "      <th>163</th>\n",
       "      <td>Democratic Republic of the Congo</td>\n",
       "      <td>Authoritarian</td>\n",
       "      <td>1.40</td>\n",
       "      <td>0.75</td>\n",
       "      <td>0.00</td>\n",
       "      <td>2.22</td>\n",
       "      <td>3.13</td>\n",
       "      <td>0.88</td>\n",
       "    </tr>\n",
       "    <tr>\n",
       "      <th>164</th>\n",
       "      <td>North Korea</td>\n",
       "      <td>Authoritarian</td>\n",
       "      <td>1.08</td>\n",
       "      <td>0.00</td>\n",
       "      <td>2.50</td>\n",
       "      <td>1.67</td>\n",
       "      <td>1.25</td>\n",
       "      <td>0.00</td>\n",
       "    </tr>\n",
       "    <tr>\n",
       "      <th>165</th>\n",
       "      <td>Myanmar</td>\n",
       "      <td>Authoritarian</td>\n",
       "      <td>1.02</td>\n",
       "      <td>0.00</td>\n",
       "      <td>0.00</td>\n",
       "      <td>1.67</td>\n",
       "      <td>3.13</td>\n",
       "      <td>0.29</td>\n",
       "    </tr>\n",
       "    <tr>\n",
       "      <th>166</th>\n",
       "      <td>Afghanistan</td>\n",
       "      <td>Authoritarian</td>\n",
       "      <td>0.32</td>\n",
       "      <td>0.00</td>\n",
       "      <td>0.07</td>\n",
       "      <td>0.00</td>\n",
       "      <td>1.25</td>\n",
       "      <td>0.29</td>\n",
       "    </tr>\n",
       "  </tbody>\n",
       "</table>\n",
       "<p>167 rows × 8 columns</p>\n",
       "</div>"
      ],
      "text/plain": [
       "                              Country      Regimetype Overallscore  \\\n",
       "0                              Norway  Full democracy         9.75   \n",
       "1                         New Zealand  Full democracy         9.37   \n",
       "2                             Finland  Full democracy         9.27   \n",
       "3                              Sweden  Full democracy         9.26   \n",
       "4                             Iceland  Full democracy         9.18   \n",
       "..                                ...             ...          ...   \n",
       "162          Central African Republic   Authoritarian         1.43   \n",
       "163  Democratic Republic of the Congo   Authoritarian         1.40   \n",
       "164                       North Korea   Authoritarian         1.08   \n",
       "165                           Myanmar   Authoritarian         1.02   \n",
       "166                       Afghanistan   Authoritarian         0.32   \n",
       "\n",
       "    Electoralprocessandpluralism Functioningofgovernment  \\\n",
       "0                          10.00                    9.64   \n",
       "1                          10.00                    8.93   \n",
       "2                          10.00                    9.29   \n",
       "3                           9.58                    9.29   \n",
       "4                          10.00                    8.21   \n",
       "..                           ...                     ...   \n",
       "162                         1.25                    0.00   \n",
       "163                         0.75                    0.00   \n",
       "164                         0.00                    2.50   \n",
       "165                         0.00                    0.00   \n",
       "166                         0.00                    0.07   \n",
       "\n",
       "    Politicalparticipation Politicalculture Civilliberties  \n",
       "0                    10.00            10.00           9.12  \n",
       "1                     9.44             8.75           9.71  \n",
       "2                     8.89             8.75           9.41  \n",
       "3                     8.33            10.00           9.12  \n",
       "4                     8.89             9.38           9.41  \n",
       "..                     ...              ...            ...  \n",
       "162                   1.67             1.88           2.35  \n",
       "163                   2.22             3.13           0.88  \n",
       "164                   1.67             1.25           0.00  \n",
       "165                   1.67             3.13           0.29  \n",
       "166                   0.00             1.25           0.29  \n",
       "\n",
       "[167 rows x 8 columns]"
      ]
     },
     "execution_count": 25,
     "metadata": {},
     "output_type": "execute_result"
    }
   ],
   "source": [
    "DFwiki.reset_index(drop=True, inplace=True)\n",
    "#\n",
    "DFwiki"
   ]
  },
  {
   "cell_type": "markdown",
   "metadata": {},
   "source": [
    "# II. Formatting\n",
    "\n",
    "\n",
    "1. Check the data types\n",
    "\n",
    "First, see what data types have been assigned by Python to each column:"
   ]
  },
  {
   "cell_type": "code",
   "execution_count": 26,
   "metadata": {},
   "outputs": [
    {
     "name": "stdout",
     "output_type": "stream",
     "text": [
      "<class 'pandas.core.frame.DataFrame'>\n",
      "RangeIndex: 167 entries, 0 to 166\n",
      "Data columns (total 8 columns):\n",
      " #   Column                        Non-Null Count  Dtype \n",
      "---  ------                        --------------  ----- \n",
      " 0   Country                       167 non-null    object\n",
      " 1   Regimetype                    167 non-null    object\n",
      " 2   Overallscore                  167 non-null    object\n",
      " 3   Electoralprocessandpluralism  167 non-null    object\n",
      " 4   Functioningofgovernment       167 non-null    object\n",
      " 5   Politicalparticipation        167 non-null    object\n",
      " 6   Politicalculture              167 non-null    object\n",
      " 7   Civilliberties                167 non-null    object\n",
      "dtypes: object(8)\n",
      "memory usage: 10.6+ KB\n"
     ]
    }
   ],
   "source": [
    "DFwiki.info()"
   ]
  },
  {
   "cell_type": "markdown",
   "metadata": {},
   "source": [
    "You can pay attention to text case here, mainly for the column names:\n",
    "\n",
    "* [Lower case](https://pandas.pydata.org/docs/reference/api/pandas.Series.str.lower.html):"
   ]
  },
  {
   "cell_type": "code",
   "execution_count": 27,
   "metadata": {},
   "outputs": [
    {
     "data": {
      "text/plain": [
       "Index(['country', 'regimetype', 'overallscore', 'electoralprocessandpluralism',\n",
       "       'functioningofgovernment', 'politicalparticipation', 'politicalculture',\n",
       "       'civilliberties'],\n",
       "      dtype='object')"
      ]
     },
     "execution_count": 27,
     "metadata": {},
     "output_type": "execute_result"
    }
   ],
   "source": [
    "DFwiki.columns.str.lower()"
   ]
  },
  {
   "cell_type": "markdown",
   "metadata": {},
   "source": [
    "* Upper case"
   ]
  },
  {
   "cell_type": "code",
   "execution_count": 28,
   "metadata": {},
   "outputs": [
    {
     "data": {
      "text/plain": [
       "Index(['COUNTRY', 'REGIMETYPE', 'OVERALLSCORE', 'ELECTORALPROCESSANDPLURALISM',\n",
       "       'FUNCTIONINGOFGOVERNMENT', 'POLITICALPARTICIPATION', 'POLITICALCULTURE',\n",
       "       'CIVILLIBERTIES'],\n",
       "      dtype='object')"
      ]
     },
     "execution_count": 28,
     "metadata": {},
     "output_type": "execute_result"
    }
   ],
   "source": [
    "DFwiki.columns.str.upper()"
   ]
  },
  {
   "cell_type": "markdown",
   "metadata": {},
   "source": [
    "You also have options like [str.capitalize](https://pandas.pydata.org/docs/reference/api/pandas.Series.str.capitalize.html) and [str.title](https://pandas.pydata.org/docs/reference/api/pandas.Series.str.title.html)."
   ]
  },
  {
   "cell_type": "markdown",
   "metadata": {},
   "source": [
    "Notice  from the **info()** that all your data types (_Dtypes_) are of the **object** kind. If the columns have texts, Python will say it is an **object**. That is OK for _Country_, but not for the others. _Regimetype_ is a **category**, and all the other columns are **numeric** values. Let's work on that:\n",
    "\n",
    "2. Text to categorical\n",
    "\n"
   ]
  },
  {
   "cell_type": "code",
   "execution_count": 29,
   "metadata": {},
   "outputs": [
    {
     "data": {
      "text/plain": [
       "Authoritarian       59\n",
       "Flawed democracy    53\n",
       "Hybrid regime       34\n",
       "Full democracy      21\n",
       "Name: Regimetype, dtype: int64"
      ]
     },
     "execution_count": 29,
     "metadata": {},
     "output_type": "execute_result"
    }
   ],
   "source": [
    "# this column is clean...\n",
    "DFwiki.Regimetype.value_counts()"
   ]
  },
  {
   "cell_type": "code",
   "execution_count": 30,
   "metadata": {},
   "outputs": [
    {
     "data": {
      "text/plain": [
       "dtype('O')"
      ]
     },
     "execution_count": 30,
     "metadata": {},
     "output_type": "execute_result"
    }
   ],
   "source": [
    "# but NOT formatted:\n",
    "DFwiki.Regimetype.dtype"
   ]
  },
  {
   "cell_type": "markdown",
   "metadata": {},
   "source": [
    "In the cleaning process we got rid of the wrong levels, now we need to set the right data type:"
   ]
  },
  {
   "cell_type": "code",
   "execution_count": 31,
   "metadata": {},
   "outputs": [
    {
     "name": "stderr",
     "output_type": "stream",
     "text": [
      "/var/folders/db/fb6855rs3nj9kh_wtt2d71t00000gn/T/ipykernel_15703/1320575177.py:11: SettingWithCopyWarning: \n",
      "A value is trying to be set on a copy of a slice from a DataFrame.\n",
      "Try using .loc[row_indexer,col_indexer] = value instead\n",
      "\n",
      "See the caveats in the documentation: https://pandas.pydata.org/pandas-docs/stable/user_guide/indexing.html#returning-a-view-versus-a-copy\n",
      "  DFwiki['Regimetype']=DFwiki.Regimetype.astype(regimeOrdered)\n"
     ]
    }
   ],
   "source": [
    "# import function for the categories to be set:\n",
    "from pandas.api.types import CategoricalDtype\n",
    "\n",
    "# prepare list order of levels (ascending when ordinal)\n",
    "regimeLevels=[\"Authoritarian\", \"Hybrid regime\",\"Flawed democracy\", \"Full democracy\"]\n",
    "\n",
    "# create custom data type\n",
    "regimeOrdered = CategoricalDtype(categories=regimeLevels, ordered=True)\n",
    "\n",
    "# set the Dtype of the column (one column):\n",
    "DFwiki['Regimetype']=DFwiki.Regimetype.astype(regimeOrdered)"
   ]
  },
  {
   "cell_type": "markdown",
   "metadata": {},
   "source": [
    "See the changes:"
   ]
  },
  {
   "cell_type": "code",
   "execution_count": 32,
   "metadata": {},
   "outputs": [
    {
     "data": {
      "text/plain": [
       "CategoricalDtype(categories=['Authoritarian', 'Hybrid regime', 'Flawed democracy',\n",
       "                  'Full democracy'],\n",
       ", ordered=True)"
      ]
     },
     "execution_count": 32,
     "metadata": {},
     "output_type": "execute_result"
    }
   ],
   "source": [
    "DFwiki.Regimetype.dtype"
   ]
  },
  {
   "cell_type": "markdown",
   "metadata": {},
   "source": [
    "3. Numbers that need to be numerical type\n",
    "\n",
    "This is simple with [to_numeric](https://pandas.pydata.org/docs/reference/api/pandas.to_numeric.html) from pandas. See how it works:\n"
   ]
  },
  {
   "cell_type": "code",
   "execution_count": 33,
   "metadata": {},
   "outputs": [
    {
     "data": {
      "text/plain": [
       "dtype('O')"
      ]
     },
     "execution_count": 33,
     "metadata": {},
     "output_type": "execute_result"
    }
   ],
   "source": [
    "#current dtype:\n",
    "DFwiki.Overallscore.dtype"
   ]
  },
  {
   "cell_type": "code",
   "execution_count": 34,
   "metadata": {},
   "outputs": [
    {
     "data": {
      "text/plain": [
       "0      9.75\n",
       "1      9.37\n",
       "2      9.27\n",
       "3      9.26\n",
       "4      9.18\n",
       "       ... \n",
       "162    1.43\n",
       "163    1.40\n",
       "164    1.08\n",
       "165    1.02\n",
       "166    0.32\n",
       "Name: Overallscore, Length: 167, dtype: float64"
      ]
     },
     "execution_count": 34,
     "metadata": {},
     "output_type": "execute_result"
    }
   ],
   "source": [
    "#formatting ONE column:\n",
    "pd.to_numeric(DFwiki.Overallscore,errors='coerce')"
   ]
  },
  {
   "cell_type": "markdown",
   "metadata": {},
   "source": [
    "However, that functions can not be applied to a set columns, but one column at a time."
   ]
  },
  {
   "cell_type": "code",
   "execution_count": 35,
   "metadata": {},
   "outputs": [],
   "source": [
    "# this will not work:\n",
    "# pd.to_numeric(DFwiki.iloc[:,2:])"
   ]
  },
  {
   "cell_type": "markdown",
   "metadata": {},
   "source": [
    "I showed you before how to _apply_ a function to several columns. Let me use that again:"
   ]
  },
  {
   "cell_type": "markdown",
   "metadata": {},
   "source": [
    "Let's follow the last strategy:"
   ]
  },
  {
   "cell_type": "code",
   "execution_count": 36,
   "metadata": {},
   "outputs": [
    {
     "name": "stderr",
     "output_type": "stream",
     "text": [
      "/var/folders/db/fb6855rs3nj9kh_wtt2d71t00000gn/T/ipykernel_15703/989646791.py:8: SettingWithCopyWarning: \n",
      "A value is trying to be set on a copy of a slice from a DataFrame.\n",
      "Try using .loc[row_indexer,col_indexer] = value instead\n",
      "\n",
      "See the caveats in the documentation: https://pandas.pydata.org/pandas-docs/stable/user_guide/indexing.html#returning-a-view-versus-a-copy\n",
      "  DFwiki.loc[:,where]=DFwiki.loc[:,where].apply(severalToNum)\n",
      "/var/folders/db/fb6855rs3nj9kh_wtt2d71t00000gn/T/ipykernel_15703/989646791.py:8: FutureWarning: In a future version, `df.iloc[:, i] = newvals` will attempt to set the values inplace instead of always setting a new array. To retain the old behavior, use either `df[df.columns[i]] = newvals` or, if columns are non-unique, `df.isetitem(i, newvals)`\n",
      "  DFwiki.loc[:,where]=DFwiki.loc[:,where].apply(severalToNum)\n"
     ]
    }
   ],
   "source": [
    "# customize function\n",
    "severalToNum=lambda x:pd.to_numeric(x,errors='coerce')\n",
    "#pd.to_numeric,\n",
    "#apply function:\n",
    "\n",
    "where=DFwiki.columns[2:]\n",
    "\n",
    "DFwiki.loc[:,where]=DFwiki.loc[:,where].apply(severalToNum)"
   ]
  },
  {
   "cell_type": "code",
   "execution_count": 37,
   "metadata": {},
   "outputs": [
    {
     "name": "stdout",
     "output_type": "stream",
     "text": [
      "<class 'pandas.core.frame.DataFrame'>\n",
      "RangeIndex: 167 entries, 0 to 166\n",
      "Data columns (total 8 columns):\n",
      " #   Column                        Non-Null Count  Dtype   \n",
      "---  ------                        --------------  -----   \n",
      " 0   Country                       167 non-null    object  \n",
      " 1   Regimetype                    167 non-null    category\n",
      " 2   Overallscore                  167 non-null    float64 \n",
      " 3   Electoralprocessandpluralism  167 non-null    float64 \n",
      " 4   Functioningofgovernment       167 non-null    float64 \n",
      " 5   Politicalparticipation        167 non-null    float64 \n",
      " 6   Politicalculture              167 non-null    float64 \n",
      " 7   Civilliberties                167 non-null    float64 \n",
      "dtypes: category(1), float64(6), object(1)\n",
      "memory usage: 9.6+ KB\n"
     ]
    }
   ],
   "source": [
    "# result\n",
    "\n",
    "DFwiki.info()"
   ]
  },
  {
   "cell_type": "markdown",
   "metadata": {},
   "source": [
    "The DF now has the right data types. \n",
    "\n",
    "At this stage, it would be a good idea to save this work locally in a file:"
   ]
  },
  {
   "cell_type": "code",
   "execution_count": 38,
   "metadata": {},
   "outputs": [],
   "source": [
    "# two options\n",
    "DFwiki.to_csv(\"demoindex.csv\",index=False)\n",
    "DFwiki.to_pickle(\"demoindex.pkl\")"
   ]
  },
  {
   "cell_type": "markdown",
   "metadata": {},
   "source": [
    "CSV files are very common, but let me show a disadvantage:"
   ]
  },
  {
   "cell_type": "code",
   "execution_count": 39,
   "metadata": {},
   "outputs": [
    {
     "name": "stdout",
     "output_type": "stream",
     "text": [
      "<class 'pandas.core.frame.DataFrame'>\n",
      "RangeIndex: 167 entries, 0 to 166\n",
      "Data columns (total 8 columns):\n",
      " #   Column                        Non-Null Count  Dtype  \n",
      "---  ------                        --------------  -----  \n",
      " 0   Country                       167 non-null    object \n",
      " 1   Regimetype                    167 non-null    object \n",
      " 2   Overallscore                  167 non-null    float64\n",
      " 3   Electoralprocessandpluralism  167 non-null    float64\n",
      " 4   Functioningofgovernment       167 non-null    float64\n",
      " 5   Politicalparticipation        167 non-null    float64\n",
      " 6   Politicalculture              167 non-null    float64\n",
      " 7   Civilliberties                167 non-null    float64\n",
      "dtypes: float64(6), object(2)\n",
      "memory usage: 10.6+ KB\n"
     ]
    }
   ],
   "source": [
    "democsv=pd.read_csv('demoindex.csv')\n",
    "# see Dtypes:\n",
    "democsv.info()"
   ]
  },
  {
   "cell_type": "markdown",
   "metadata": {},
   "source": [
    "Compare it to the pickle version:"
   ]
  },
  {
   "cell_type": "code",
   "execution_count": 40,
   "metadata": {},
   "outputs": [
    {
     "name": "stdout",
     "output_type": "stream",
     "text": [
      "<class 'pandas.core.frame.DataFrame'>\n",
      "RangeIndex: 167 entries, 0 to 166\n",
      "Data columns (total 8 columns):\n",
      " #   Column                        Non-Null Count  Dtype   \n",
      "---  ------                        --------------  -----   \n",
      " 0   Country                       167 non-null    object  \n",
      " 1   Regimetype                    167 non-null    category\n",
      " 2   Overallscore                  167 non-null    float64 \n",
      " 3   Electoralprocessandpluralism  167 non-null    float64 \n",
      " 4   Functioningofgovernment       167 non-null    float64 \n",
      " 5   Politicalparticipation        167 non-null    float64 \n",
      " 6   Politicalculture              167 non-null    float64 \n",
      " 7   Civilliberties                167 non-null    float64 \n",
      "dtypes: category(1), float64(6), object(1)\n",
      "memory usage: 9.5+ KB\n"
     ]
    }
   ],
   "source": [
    "demopkl=pd.read_pickle('demoindex.pkl')\n",
    "#\n",
    "demopkl.info()"
   ]
  }
 ],
 "metadata": {
  "anaconda-cloud": {
   "attach-environment": true,
   "summary": "test"
  },
  "hide_input": false,
  "kernelspec": {
   "display_name": "Python 3 (ipykernel)",
   "language": "python",
   "name": "python3"
  },
  "language_info": {
   "codemirror_mode": {
    "name": "ipython",
    "version": 3
   },
   "file_extension": ".py",
   "mimetype": "text/x-python",
   "name": "python",
   "nbconvert_exporter": "python",
   "pygments_lexer": "ipython3",
   "version": "3.9.15"
  },
  "toc-autonumbering": false
 },
 "nbformat": 4,
 "nbformat_minor": 4
}
